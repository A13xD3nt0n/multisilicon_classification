{
  "nbformat": 4,
  "nbformat_minor": 0,
  "metadata": {
    "colab": {
      "provenance": []
    },
    "kernelspec": {
      "name": "python3",
      "display_name": "Python 3"
    },
    "language_info": {
      "name": "python"
    }
  },
  "cells": [
    {
      "cell_type": "markdown",
      "source": [
        "#Test"
      ],
      "metadata": {
        "id": "aAmA7AoWSJo4"
      }
    },
    {
      "cell_type": "code",
      "execution_count": null,
      "metadata": {
        "id": "h3w_BPW5YuCb"
      },
      "outputs": [],
      "source": [
        "import warnings\n",
        "warnings.filterwarnings('ignore')"
      ]
    },
    {
      "cell_type": "code",
      "execution_count": null,
      "metadata": {
        "id": "3zory4u3Zny7"
      },
      "outputs": [],
      "source": [
        "from tensorflow.keras.models import Sequential, Model\n",
        "from keras.layers import Input, concatenate, Conv2D, MaxPooling2D, Conv2DTranspose, UpSampling2D\n",
        "from tensorflow.keras import utils\n",
        "from tensorflow.keras.preprocessing import image\n",
        "from tensorflow.keras.preprocessing.image import ImageDataGenerator\n",
        "from tensorflow.keras.callbacks import ReduceLROnPlateau, ModelCheckpoint\n",
        "import tensorflow as tf\n",
        "from sklearn.model_selection import train_test_split\n",
        "from google.colab import files\n",
        "import numpy as np\n",
        "import matplotlib.pyplot as plt\n",
        "import pandas as pd\n",
        "import os\n",
        "from tensorflow.keras.utils import img_to_array\n",
        "from PIL import Image\n",
        "from tensorflow.keras.losses import MeanAbsoluteError\n",
        "import math\n",
        "import numpy as np\n",
        "from keras.optimizers import Adam"
      ]
    },
    {
      "cell_type": "code",
      "source": [
        "!pip install orix"
      ],
      "metadata": {
        "colab": {
          "base_uri": "https://localhost:8080/"
        },
        "id": "HZHcSxMmSQ-7",
        "outputId": "acbb3d9f-2675-4d82-f728-3625a3a4aaa2"
      },
      "execution_count": null,
      "outputs": [
        {
          "output_type": "stream",
          "name": "stdout",
          "text": [
            "Looking in indexes: https://pypi.org/simple, https://us-python.pkg.dev/colab-wheels/public/simple/\n",
            "Collecting orix\n",
            "  Downloading orix-0.11.1-py3-none-any.whl (308 kB)\n",
            "\u001b[2K     \u001b[90m━━━━━━━━━━━━━━━━━━━━━━━━━━━━━━━━━━━━━━━\u001b[0m \u001b[32m308.1/308.1 kB\u001b[0m \u001b[31m6.6 MB/s\u001b[0m eta \u001b[36m0:00:00\u001b[0m\n",
            "\u001b[?25hRequirement already satisfied: dask[array] in /usr/local/lib/python3.10/dist-packages (from orix) (2022.12.1)\n",
            "Collecting diffpy.structure>=3.0.2 (from orix)\n",
            "  Downloading diffpy.structure-3.1.0.tar.gz (136 kB)\n",
            "\u001b[2K     \u001b[90m━━━━━━━━━━━━━━━━━━━━━━━━━━━━━━━━━━━━━━\u001b[0m \u001b[32m136.6/136.6 kB\u001b[0m \u001b[31m13.5 MB/s\u001b[0m eta \u001b[36m0:00:00\u001b[0m\n",
            "\u001b[?25h  Preparing metadata (setup.py) ... \u001b[?25l\u001b[?25hdone\n",
            "Requirement already satisfied: h5py in /usr/local/lib/python3.10/dist-packages (from orix) (3.8.0)\n",
            "Requirement already satisfied: matplotlib>=3.3 in /usr/local/lib/python3.10/dist-packages (from orix) (3.7.1)\n",
            "Collecting matplotlib-scalebar (from orix)\n",
            "  Downloading matplotlib_scalebar-0.8.1-py2.py3-none-any.whl (17 kB)\n",
            "Requirement already satisfied: numba in /usr/local/lib/python3.10/dist-packages (from orix) (0.56.4)\n",
            "Requirement already satisfied: numpy in /usr/local/lib/python3.10/dist-packages (from orix) (1.22.4)\n",
            "Collecting numpy-quaternion (from orix)\n",
            "  Downloading numpy_quaternion-2022.4.3-cp310-cp310-manylinux_2_5_x86_64.manylinux1_x86_64.manylinux_2_17_x86_64.manylinux2014_x86_64.whl (205 kB)\n",
            "\u001b[2K     \u001b[90m━━━━━━━━━━━━━━━━━━━━━━━━━━━━━━━━━━━━━━━\u001b[0m \u001b[32m205.9/205.9 kB\u001b[0m \u001b[31m7.9 MB/s\u001b[0m eta \u001b[36m0:00:00\u001b[0m\n",
            "\u001b[?25hRequirement already satisfied: pooch>=0.13 in /usr/local/lib/python3.10/dist-packages (from orix) (1.6.0)\n",
            "Requirement already satisfied: scipy in /usr/local/lib/python3.10/dist-packages (from orix) (1.10.1)\n",
            "Requirement already satisfied: tqdm in /usr/local/lib/python3.10/dist-packages (from orix) (4.65.0)\n",
            "Requirement already satisfied: six in /usr/local/lib/python3.10/dist-packages (from diffpy.structure>=3.0.2->orix) (1.16.0)\n",
            "Collecting pycifrw>=4.4.3 (from diffpy.structure>=3.0.2->orix)\n",
            "  Downloading PyCifRW-4.4.5.tar.gz (1.1 MB)\n",
            "\u001b[2K     \u001b[90m━━━━━━━━━━━━━━━━━━━━━━━━━━━━━━━━━━━━━━━━\u001b[0m \u001b[32m1.1/1.1 MB\u001b[0m \u001b[31m27.7 MB/s\u001b[0m eta \u001b[36m0:00:00\u001b[0m\n",
            "\u001b[?25h  Preparing metadata (setup.py) ... \u001b[?25l\u001b[?25hdone\n",
            "Requirement already satisfied: contourpy>=1.0.1 in /usr/local/lib/python3.10/dist-packages (from matplotlib>=3.3->orix) (1.0.7)\n",
            "Requirement already satisfied: cycler>=0.10 in /usr/local/lib/python3.10/dist-packages (from matplotlib>=3.3->orix) (0.11.0)\n",
            "Requirement already satisfied: fonttools>=4.22.0 in /usr/local/lib/python3.10/dist-packages (from matplotlib>=3.3->orix) (4.39.3)\n",
            "Requirement already satisfied: kiwisolver>=1.0.1 in /usr/local/lib/python3.10/dist-packages (from matplotlib>=3.3->orix) (1.4.4)\n",
            "Requirement already satisfied: packaging>=20.0 in /usr/local/lib/python3.10/dist-packages (from matplotlib>=3.3->orix) (23.1)\n",
            "Requirement already satisfied: pillow>=6.2.0 in /usr/local/lib/python3.10/dist-packages (from matplotlib>=3.3->orix) (8.4.0)\n",
            "Requirement already satisfied: pyparsing>=2.3.1 in /usr/local/lib/python3.10/dist-packages (from matplotlib>=3.3->orix) (3.0.9)\n",
            "Requirement already satisfied: python-dateutil>=2.7 in /usr/local/lib/python3.10/dist-packages (from matplotlib>=3.3->orix) (2.8.2)\n",
            "Requirement already satisfied: appdirs>=1.3.0 in /usr/local/lib/python3.10/dist-packages (from pooch>=0.13->orix) (1.4.4)\n",
            "Requirement already satisfied: requests>=2.19.0 in /usr/local/lib/python3.10/dist-packages (from pooch>=0.13->orix) (2.27.1)\n",
            "Requirement already satisfied: click>=7.0 in /usr/local/lib/python3.10/dist-packages (from dask[array]->orix) (8.1.3)\n",
            "Requirement already satisfied: cloudpickle>=1.1.1 in /usr/local/lib/python3.10/dist-packages (from dask[array]->orix) (2.2.1)\n",
            "Requirement already satisfied: fsspec>=0.6.0 in /usr/local/lib/python3.10/dist-packages (from dask[array]->orix) (2023.4.0)\n",
            "Requirement already satisfied: partd>=0.3.10 in /usr/local/lib/python3.10/dist-packages (from dask[array]->orix) (1.4.0)\n",
            "Requirement already satisfied: pyyaml>=5.3.1 in /usr/local/lib/python3.10/dist-packages (from dask[array]->orix) (6.0)\n",
            "Requirement already satisfied: toolz>=0.8.2 in /usr/local/lib/python3.10/dist-packages (from dask[array]->orix) (0.12.0)\n",
            "Requirement already satisfied: llvmlite<0.40,>=0.39.0dev0 in /usr/local/lib/python3.10/dist-packages (from numba->orix) (0.39.1)\n",
            "Requirement already satisfied: setuptools in /usr/local/lib/python3.10/dist-packages (from numba->orix) (67.7.2)\n",
            "Requirement already satisfied: locket in /usr/local/lib/python3.10/dist-packages (from partd>=0.3.10->dask[array]->orix) (1.0.0)\n",
            "Requirement already satisfied: urllib3<1.27,>=1.21.1 in /usr/local/lib/python3.10/dist-packages (from requests>=2.19.0->pooch>=0.13->orix) (1.26.15)\n",
            "Requirement already satisfied: certifi>=2017.4.17 in /usr/local/lib/python3.10/dist-packages (from requests>=2.19.0->pooch>=0.13->orix) (2022.12.7)\n",
            "Requirement already satisfied: charset-normalizer~=2.0.0 in /usr/local/lib/python3.10/dist-packages (from requests>=2.19.0->pooch>=0.13->orix) (2.0.12)\n",
            "Requirement already satisfied: idna<4,>=2.5 in /usr/local/lib/python3.10/dist-packages (from requests>=2.19.0->pooch>=0.13->orix) (3.4)\n",
            "Building wheels for collected packages: diffpy.structure, pycifrw\n",
            "  Building wheel for diffpy.structure (setup.py) ... \u001b[?25l\u001b[?25hdone\n",
            "  Created wheel for diffpy.structure: filename=diffpy.structure-3.1.0-py3-none-any.whl size=172831 sha256=6b2b6079d28ca8b55e09bdc4f0aaf545a49bd281a4ff0a9e33aa8f6dab477756\n",
            "  Stored in directory: /root/.cache/pip/wheels/5b/33/86/dde093d7a37d2d2c7342f3f575321fa2bac69ab376f89356d3\n",
            "  Building wheel for pycifrw (setup.py) ... \u001b[?25l\u001b[?25hdone\n",
            "  Created wheel for pycifrw: filename=PyCifRW-4.4.5-cp310-cp310-linux_x86_64.whl size=163210 sha256=169c68e82be71943ea0c6157f3d101e8b86d18f9c6d6f3514923a59b117ac1ad\n",
            "  Stored in directory: /root/.cache/pip/wheels/fd/49/f7/8ad3fcc80ab1fd8de2caaf47094113a629eb1a39f9ef470732\n",
            "Successfully built diffpy.structure pycifrw\n",
            "Installing collected packages: pycifrw, numpy-quaternion, diffpy.structure, matplotlib-scalebar, orix\n",
            "Successfully installed diffpy.structure-3.1.0 matplotlib-scalebar-0.8.1 numpy-quaternion-2022.4.3 orix-0.11.1 pycifrw-4.4.5\n"
          ]
        }
      ]
    },
    {
      "cell_type": "code",
      "execution_count": null,
      "metadata": {
        "id": "3evf9pCgLSxW"
      },
      "outputs": [],
      "source": [
        "directory = '/content/drive/MyDrive/работа с картинками/input_data/not_unique/'"
      ]
    },
    {
      "cell_type": "code",
      "execution_count": null,
      "metadata": {
        "id": "Vy4HVT0DJi1g"
      },
      "outputs": [],
      "source": [
        "file_names = os.listdir(directory)\n",
        "file_names.sort()\n",
        "names = list()\n",
        "input_data = list()\n",
        "for file in file_names:\n",
        "  input_data.append(np.load(directory+file, allow_pickle=True))\n",
        "  names.append(file[:-4])"
      ]
    },
    {
      "cell_type": "code",
      "source": [
        "output_data = list()\n",
        "for name in names:\n",
        "  data = [float(x) for x in name[name.index('_')+1:name.index(' [')].split(';')]\n",
        "  output_data.append(data)"
      ],
      "metadata": {
        "id": "f0vNd01uiaMP"
      },
      "execution_count": null,
      "outputs": []
    },
    {
      "cell_type": "code",
      "source": [
        "def basic_vectors(eulers):\n",
        "  i1 = eulers[0]\n",
        "  i2 = eulers[1]\n",
        "  i3 = eulers[2]\n",
        "  i1c = tf.cos(i1*math.pi/180)\n",
        "  i1s = tf.sin(i1*math.pi/180)\n",
        "  i2c = tf.cos(i2*math.pi/180)\n",
        "  i2s = tf.sin(i2*math.pi/180)\n",
        "  i3c = tf.cos(i3*math.pi/180)\n",
        "  i3s = tf.sin(i3*math.pi/180)\n",
        "  x = np.zeros((3,3))\n",
        "\n",
        "  x[0,0] = i1c * i3c - i2c * i3s * i1s\n",
        "  x[1,0] = -i1c * i3s - i1s * i2c * i3c\n",
        "  x[2,0] = i1s * i2s\n",
        "  x[0,1] = i1s * i3c + i2c * i3s * i1c\n",
        "  x[1,1] = -i1s * i3s + i1c * i2c * i3c\n",
        "  x[2,1] = -i1c * i2s\n",
        "  x[0,2] = i3s * i2s\n",
        "  x[1,2] = i2s * i3c\n",
        "  x[2,2] = i2c\n",
        "  result = list()\n",
        "  for i in range(3):\n",
        "    phi = np.arccos(x[i,2])\n",
        "    phi1 = np.arcsin(x[i,0]/np.sin(phi))\n",
        "    phi2 = np.arcsin(x[(i+1)%3,2]/np.sin(phi))\n",
        "    if x[i,1] < 0:\n",
        "      first_res = 180-phi1*180/math.pi\n",
        "    else:\n",
        "      first_res = -(np.sign(x[i,0])-np.sign(x[i,1]))*180+phi1*180/math.pi\n",
        "    if x[i,2] < 0:\n",
        "      second_res = -(np.sign(x[(i+1) % 3,2])+np.sign(x[(i-1) %3,2]))*180+phi2*180/math.pi\n",
        "    else:\n",
        "      second_res = 180-phi2*180/math.pi\n",
        "    result.append([first_res,phi*180/math.pi,second_res])\n",
        "  return result"
      ],
      "metadata": {
        "id": "ZWc8gUCgUyCt"
      },
      "execution_count": null,
      "outputs": []
    },
    {
      "cell_type": "code",
      "source": [
        "import matplotlib.colors as mcolors\n",
        "colors = mcolors.BASE_COLORS\n",
        "\n",
        "def distance(a,b):\n",
        "    dx = a[0]-b[0]\n",
        "    dy = a[1]-b[1]\n",
        "    dz = a[2]-b[2]\n",
        "    return math.sqrt(dx*dx+dy*dy+dz*dz)\n",
        "\n",
        "def findclosest(pixel):\n",
        "    mn = 999999\n",
        "    for key in colors:\n",
        "        d = distance(pixel, colors[key])\n",
        "        if d < mn:\n",
        "            mn = d\n",
        "            name_color = key\n",
        "    return name_color"
      ],
      "metadata": {
        "id": "uLc9tvNI1DVC"
      },
      "execution_count": null,
      "outputs": []
    },
    {
      "cell_type": "code",
      "source": [
        "rgb_z[0]"
      ],
      "metadata": {
        "colab": {
          "base_uri": "https://localhost:8080/"
        },
        "id": "2LgsFoqm1lFw",
        "outputId": "dad40c4a-5247-44e6-f2c7-1ee1249656c0"
      },
      "execution_count": null,
      "outputs": [
        {
          "output_type": "execute_result",
          "data": {
            "text/plain": [
              "array([1.        , 0.21287201, 0.04035865])"
            ]
          },
          "metadata": {},
          "execution_count": 48
        }
      ]
    },
    {
      "cell_type": "code",
      "source": [
        "findclosest(rgb_z_base[8])"
      ],
      "metadata": {
        "colab": {
          "base_uri": "https://localhost:8080/",
          "height": 36
        },
        "id": "UL1MaC6R1u43",
        "outputId": "871e37c6-4f99-46d8-d7c2-3fcbc4f4586a"
      },
      "execution_count": null,
      "outputs": [
        {
          "output_type": "execute_result",
          "data": {
            "text/plain": [
              "'y'"
            ],
            "application/vnd.google.colaboratory.intrinsic+json": {
              "type": "string"
            }
          },
          "metadata": {},
          "execution_count": 80
        }
      ]
    },
    {
      "cell_type": "code",
      "source": [
        "rgb_z"
      ],
      "metadata": {
        "colab": {
          "base_uri": "https://localhost:8080/"
        },
        "id": "ewrAcfXs25sj",
        "outputId": "873d2af2-e7f9-4c3a-cfbf-4af0dc1a7998"
      },
      "execution_count": null,
      "outputs": [
        {
          "output_type": "execute_result",
          "data": {
            "text/plain": [
              "array([[0.40245942, 0.94662711, 1.        ]])"
            ]
          },
          "metadata": {},
          "execution_count": 69
        }
      ]
    },
    {
      "cell_type": "code",
      "source": [
        "basic ="
      ],
      "metadata": {
        "id": "mRJRHuR_Zc3y"
      },
      "execution_count": null,
      "outputs": []
    },
    {
      "cell_type": "code",
      "source": [
        "basic"
      ],
      "metadata": {
        "colab": {
          "base_uri": "https://localhost:8080/"
        },
        "id": "iSXCFpDWZhHG",
        "outputId": "cd0a4f77-4245-459f-9ba5-a39f260040b9"
      },
      "execution_count": null,
      "outputs": [
        {
          "output_type": "execute_result",
          "data": {
            "text/plain": [
              "[[56.523282060931955, 86.5768651570217, 138.61588082318082],\n",
              " [323.5116338919879, 48.705893558956134, 94.5581237927959],\n",
              " [150.39999703749723, 41.499999495496525, 174.82999995730253]]"
            ]
          },
          "metadata": {},
          "execution_count": 40
        }
      ]
    },
    {
      "cell_type": "code",
      "source": [
        "from orix import plot\n",
        "from orix.quaternion import Orientation, symmetry\n",
        "from orix.vector.vector3d import Vector3d\n",
        "from orix.quaternion.symmetry import get_point_group\n",
        "\n",
        "solution_vectors_1 = Orientation.from_euler(basic_vectors(output_data[72]), degrees=True, direction='MTEX')\n",
        "\n",
        "\n",
        "subplot_kw = dict(projection=\"ipf\", symmetry=symmetry.Oh)\n",
        "fig = plt.figure(figsize=(9, 8))\n",
        "ipfkey = plot.IPFColorKeyTSL(symmetry.Oh)\n",
        "rgb_z = ipfkey.orientation2color(solution_vectors_1)\n",
        "\n",
        "ax0 = fig.add_subplot(221, **subplot_kw)\n",
        "ax0.scatter(solution_vectors_1, c = rgb_z, alpha=1)"
      ],
      "metadata": {
        "colab": {
          "base_uri": "https://localhost:8080/"
        },
        "id": "QmkVD0LPXvM9",
        "outputId": "97cd3570-6f07-4294-c322-9a91d38a9ed8"
      },
      "execution_count": null,
      "outputs": [
        {
          "output_type": "display_data",
          "data": {
            "text/plain": [
              "<Figure size 900x800 with 1 Axes>"
            ],
            "image/png": "[encoded data removed]"
          },
          "metadata": {}
        }
      ]
    },
    {
      "cell_type": "code",
      "source": [
        "from orix import plot\n",
        "from orix.quaternion import Orientation, symmetry\n",
        "from orix.vector.vector3d import Vector3d\n",
        "from orix.quaternion.symmetry import get_point_group\n",
        "\n",
        "solution_vectors_1 = Orientation.from_euler(basic_vectors(output_data[67]), degrees=True)\n",
        "\n",
        "\n",
        "subplot_kw = dict(projection=\"ipf\", symmetry=symmetry.Oh)\n",
        "fig = plt.figure(figsize=(9, 8))\n",
        "ipfkey = plot.IPFColorKeyTSL(symmetry.Oh)\n",
        "rgb_z = ipfkey.orientation2color(solution_vectors_1)\n",
        "\n",
        "ax0 = fig.add_subplot(221, **subplot_kw)\n",
        "ax0.scatter(solution_vectors_1, c = rgb_z, alpha=1)"
      ],
      "metadata": {
        "colab": {
          "base_uri": "https://localhost:8080/",
          "height": 347
        },
        "id": "bj_eEQ9xNWHQ",
        "outputId": "7221f6c1-78c1-4d67-8c85-b54ec51ddab6"
      },
      "execution_count": null,
      "outputs": [
        {
          "output_type": "display_data",
          "data": {
            "text/plain": [
              "<Figure size 900x800 with 1 Axes>"
            ],
            "image/png": "[encoded data removed]"
          },
          "metadata": {}
        }
      ]
    },
    {
      "cell_type": "code",
      "source": [
        "import matplotlib.colors as mcolors\n",
        "colors = mcolors.BASE_COLORS\n",
        "colors.pop('k')\n",
        "colors.pop('w')\n",
        "colors['g'] = (0, 1, 0)\n",
        "colors['c'] = (0, 1, 1)\n",
        "colors['m'] = (1, 0, 1)\n",
        "colors['y'] = (1, 1, 0)"
      ],
      "metadata": {
        "id": "hKzTU7OhPY91"
      },
      "execution_count": null,
      "outputs": []
    },
    {
      "cell_type": "code",
      "execution_count": null,
      "metadata": {
        "id": "dUzYmXRwy59W"
      },
      "outputs": [],
      "source": [
        "def distance(x,y):\n",
        "    dx = x[0]-y[0]\n",
        "    dy = x[1]-y[1]\n",
        "    dz = x[2]-y[2]\n",
        "    return math.sqrt(dx*dx+dy*dy+dz*dz)\n",
        "\n",
        "def findclosest(pixel):\n",
        "    solution_vectors_1 = Orientation.from_euler(pixel, degrees=True)\n",
        "    ipfkey = plot.IPFColorKeyTSL(symmetry.Oh)\n",
        "    rgb_z = ipfkey.orientation2color(solution_vectors_1)\n",
        "    mn = 999999\n",
        "    for key in colors:\n",
        "        d = distance(rgb_z[0], colors[key])\n",
        "        if d < mn:\n",
        "            mn = d\n",
        "            name_color = key\n",
        "    return name_color"
      ]
    },
    {
      "cell_type": "code",
      "source": [
        "i = 0\n",
        "for output in output_data:\n",
        "  if findclosest(output) == 'g':\n",
        "    print(i)\n",
        "    print(output)\n",
        "  i = i + 1"
      ],
      "metadata": {
        "colab": {
          "base_uri": "https://localhost:8080/"
        },
        "id": "CuSdvwwHPAqt",
        "outputId": "90ef24e1-db17-4872-eb49-ec9c15b51e7c"
      },
      "execution_count": null,
      "outputs": [
        {
          "output_type": "stream",
          "name": "stdout",
          "text": [
            "15\n",
            "[40.8, 36.7, 86.8]\n",
            "67\n",
            "[184.0, 37.6, 82.8]\n",
            "69\n",
            "[29.6, 41.5, 5.17]\n",
            "72\n",
            "[35.8, 44.8, 1.7]\n"
          ]
        }
      ]
    }
  ]
}