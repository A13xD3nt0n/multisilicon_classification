{
  "nbformat": 4,
  "nbformat_minor": 0,
  "metadata": {
    "colab": {
      "provenance": [],
      "toc_visible": true,
      "collapsed_sections": [
        "qhGOGUKobfMA"
      ]
    },
    "kernelspec": {
      "name": "python3",
      "display_name": "Python 3"
    },
    "language_info": {
      "name": "python"
    }
  },
  "cells": [
    {
      "cell_type": "markdown",
      "metadata": {
        "id": "qhGOGUKobfMA"
      },
      "source": [
        "#Импорт библиотек"
      ]
    },
    {
      "cell_type": "code",
      "execution_count": null,
      "metadata": {
        "id": "h3w_BPW5YuCb"
      },
      "outputs": [],
      "source": [
        "import warnings\n",
        "warnings.filterwarnings('ignore')"
      ]
    },
    {
      "cell_type": "code",
      "execution_count": null,
      "metadata": {
        "id": "3zory4u3Zny7"
      },
      "outputs": [],
      "source": [
        "from tensorflow.keras.models import Sequential, Model\n",
        "from keras.layers import Input, concatenate, Conv2D, MaxPooling2D, Conv2DTranspose, UpSampling2D\n",
        "from tensorflow.keras import utils\n",
        "from tensorflow.keras.preprocessing import image\n",
        "from tensorflow.keras.preprocessing.image import ImageDataGenerator\n",
        "from tensorflow.keras.callbacks import ReduceLROnPlateau, ModelCheckpoint\n",
        "import tensorflow as tf\n",
        "from sklearn.model_selection import train_test_split\n",
        "from google.colab import files\n",
        "import numpy as np\n",
        "import matplotlib.pyplot as plt\n",
        "import pandas as pd\n",
        "import os\n",
        "from tensorflow.keras.utils import img_to_array\n",
        "from PIL import Image\n",
        "from tensorflow.keras.losses import MeanAbsoluteError\n",
        "import math\n",
        "import numpy as np\n",
        "from keras.optimizers import Adam"
      ]
    },
    {
      "cell_type": "markdown",
      "source": [
        "# Данные"
      ],
      "metadata": {
        "id": "jRvr1S4KONw1"
      }
    },
    {
      "cell_type": "code",
      "source": [
        "total = 11\n",
        "image_cols = 160\n",
        "image_rows = 176\n",
        "data_path = '/content/drive/MyDrive/input/input_1'\n",
        "mask_path = '/content/drive/MyDrive/input/mask'\n",
        "smooth = 1."
      ],
      "metadata": {
        "id": "gC54aHMDOx9k"
      },
      "execution_count": null,
      "outputs": []
    },
    {
      "cell_type": "code",
      "source": [
        "img_arr = list()\n",
        "mask_arr = list()\n",
        "for i in range(total):\n",
        "  img = img_to_array(Image.open(\"/content/drive/MyDrive/input/input_1/input_{}.png\".format(i+1)).convert(\"RGB\").resize((image_rows, image_cols)))\n",
        "  mask =  img_to_array(Image.open(\"/content/drive/MyDrive/input/mask/mask_{}.png\".format(i+1)).convert(\"RGB\").resize((image_rows, image_cols)))\n",
        "  img_arr.append(img_to_array(img).reshape((image_rows, image_cols, 3)) / 255)\n",
        "  mask_arr.append(img_to_array(mask).reshape((image_rows, image_cols, 3)) / 255)\n",
        "img_arr = np.asarray(img_arr, dtype = np.float32)\n",
        "mask_arr = np.asarray(mask_arr, dtype = np.float32)"
      ],
      "metadata": {
        "id": "umLWbw7oV_Qd"
      },
      "execution_count": null,
      "outputs": []
    },
    {
      "cell_type": "markdown",
      "metadata": {
        "id": "hDnlqfxsTBQ7"
      },
      "source": [
        "##UNET"
      ]
    },
    {
      "cell_type": "markdown",
      "metadata": {
        "id": "en4J8CJG1xHN"
      },
      "source": [
        "###Создание модели нейросети"
      ]
    },
    {
      "cell_type": "code",
      "source": [
        "from keras import backend as K\n",
        "\n",
        "K.set_image_data_format('channels_last')  # TF dimension ordering in this code\n",
        "\n",
        "def dice_coef(y_true, y_pred):\n",
        "    y_true_f = K.flatten(y_true)\n",
        "    y_pred_f = K.flatten(y_pred)\n",
        "    intersection = K.sum(y_true_f * y_pred_f)\n",
        "    return (2. * intersection + smooth) / (K.sum(y_true_f) + K.sum(y_pred_f) + smooth)\n",
        "\n",
        "\n",
        "def dice_coef_loss(y_true, y_pred):\n",
        "    return -dice_coef(y_true, y_pred)"
      ],
      "metadata": {
        "id": "zx7Tb1BpPkm5"
      },
      "execution_count": null,
      "outputs": []
    },
    {
      "cell_type": "code",
      "source": [
        "inputs = Input((image_rows, image_cols, 3))\n",
        "conv1 = Conv2D(32, (3, 3), activation='relu', padding='same')(inputs)\n",
        "conv1 = Conv2D(32, (3, 3), activation='relu', padding='same')(conv1)\n",
        "pool1 = MaxPooling2D(pool_size=(2, 2))(conv1)\n",
        "\n",
        "conv2 = Conv2D(64, (3, 3), activation='relu', padding='same')(pool1)\n",
        "conv2 = Conv2D(64, (3, 3), activation='relu', padding='same')(conv2)\n",
        "pool2 = MaxPooling2D(pool_size=(2, 2))(conv2)\n",
        "\n",
        "conv3 = Conv2D(128, (3, 3), activation='relu', padding='same')(pool2)\n",
        "conv3 = Conv2D(128, (3, 3), activation='relu', padding='same')(conv3)\n",
        "pool3 = MaxPooling2D(pool_size=(2, 2))(conv3)\n",
        "\n",
        "conv4 = Conv2D(256, (3, 3), activation='relu', padding='same')(pool3)\n",
        "conv4 = Conv2D(256, (3, 3), activation='relu', padding='same')(conv4)\n",
        "pool4 = MaxPooling2D(pool_size=(2, 2))(conv4)\n",
        "\n",
        "conv5 = Conv2D(512, (3, 3), activation='relu', padding='same')(pool4)\n",
        "conv5 = Conv2D(512, (3, 3), activation='relu', padding='same')(conv5)\n",
        "\n",
        "up6 = concatenate([UpSampling2D(size=(2, 2))(conv5), conv4], axis=3)\n",
        "conv6 = Conv2D(256, (3, 3), activation='relu', padding='same')(up6)\n",
        "conv6 = Conv2D(256, (3, 3), activation='relu', padding='same')(conv6)\n",
        "\n",
        "up7 = concatenate([UpSampling2D(size=(2, 2))(conv6), conv3], axis=3)\n",
        "conv7 = Conv2D(128, (3, 3), activation='relu', padding='same')(up7)\n",
        "conv7 = Conv2D(128, (3, 3), activation='relu', padding='same')(conv7)\n",
        "\n",
        "up8 = concatenate([UpSampling2D(size=(2, 2))(conv7), conv2], axis=3)\n",
        "conv8 = Conv2D(64, (3, 3), activation='relu', padding='same')(up8)\n",
        "conv8 = Conv2D(64, (3, 3), activation='relu', padding='same')(conv8)\n",
        "\n",
        "up9 = concatenate([UpSampling2D(size=(2, 2))(conv8), conv1], axis=3)\n",
        "conv9 = Conv2D(32, (3, 3), activation='relu', padding='same')(up9)\n",
        "conv9 = Conv2D(32, (3, 3), activation='relu', padding='same')(conv9)\n",
        "\n",
        "conv10 = Conv2D(3, (1, 1), activation='sigmoid')(conv9)\n",
        "\n",
        "model = Model(inputs=[inputs], outputs=[conv10])\n",
        "\n",
        "model.compile(optimizer=Adam(lr=1e-5), loss=dice_coef_loss, metrics=[dice_coef])"
      ],
      "metadata": {
        "id": "WHbW0relbL9w"
      },
      "execution_count": null,
      "outputs": []
    },
    {
      "cell_type": "code",
      "source": [
        "model.summary()"
      ],
      "metadata": {
        "colab": {
          "base_uri": "https://localhost:8080/"
        },
        "id": "O-MVH1xTiw_m",
        "outputId": "8529bfb2-1885-49b3-f0ce-7ebc6c8f9310"
      },
      "execution_count": null,
      "outputs": [
        {
          "output_type": "stream",
          "name": "stdout",
          "text": [
            "Model: \"model_2\"\n",
            "__________________________________________________________________________________________________\n",
            " Layer (type)                   Output Shape         Param #     Connected to                     \n",
            "==================================================================================================\n",
            " input_11 (InputLayer)          [(None, 192, 192, 3  0           []                               \n",
            "                                )]                                                                \n",
            "                                                                                                  \n",
            " conv2d_118 (Conv2D)            (None, 192, 192, 32  896         ['input_11[0][0]']               \n",
            "                                )                                                                 \n",
            "                                                                                                  \n",
            " conv2d_119 (Conv2D)            (None, 192, 192, 32  9248        ['conv2d_118[0][0]']             \n",
            "                                )                                                                 \n",
            "                                                                                                  \n",
            " max_pooling2d_40 (MaxPooling2D  (None, 96, 96, 32)  0           ['conv2d_119[0][0]']             \n",
            " )                                                                                                \n",
            "                                                                                                  \n",
            " conv2d_120 (Conv2D)            (None, 96, 96, 64)   18496       ['max_pooling2d_40[0][0]']       \n",
            "                                                                                                  \n",
            " conv2d_121 (Conv2D)            (None, 96, 96, 64)   36928       ['conv2d_120[0][0]']             \n",
            "                                                                                                  \n",
            " max_pooling2d_41 (MaxPooling2D  (None, 48, 48, 64)  0           ['conv2d_121[0][0]']             \n",
            " )                                                                                                \n",
            "                                                                                                  \n",
            " conv2d_122 (Conv2D)            (None, 48, 48, 128)  73856       ['max_pooling2d_41[0][0]']       \n",
            "                                                                                                  \n",
            " conv2d_123 (Conv2D)            (None, 48, 48, 128)  147584      ['conv2d_122[0][0]']             \n",
            "                                                                                                  \n",
            " max_pooling2d_42 (MaxPooling2D  (None, 24, 24, 128)  0          ['conv2d_123[0][0]']             \n",
            " )                                                                                                \n",
            "                                                                                                  \n",
            " conv2d_124 (Conv2D)            (None, 24, 24, 256)  295168      ['max_pooling2d_42[0][0]']       \n",
            "                                                                                                  \n",
            " conv2d_125 (Conv2D)            (None, 24, 24, 256)  590080      ['conv2d_124[0][0]']             \n",
            "                                                                                                  \n",
            " max_pooling2d_43 (MaxPooling2D  (None, 12, 12, 256)  0          ['conv2d_125[0][0]']             \n",
            " )                                                                                                \n",
            "                                                                                                  \n",
            " conv2d_126 (Conv2D)            (None, 12, 12, 512)  1180160     ['max_pooling2d_43[0][0]']       \n",
            "                                                                                                  \n",
            " conv2d_127 (Conv2D)            (None, 12, 12, 512)  2359808     ['conv2d_126[0][0]']             \n",
            "                                                                                                  \n",
            " up_sampling2d_5 (UpSampling2D)  (None, 24, 24, 512)  0          ['conv2d_127[0][0]']             \n",
            "                                                                                                  \n",
            " concatenate_15 (Concatenate)   (None, 24, 24, 768)  0           ['up_sampling2d_5[0][0]',        \n",
            "                                                                  'conv2d_125[0][0]']             \n",
            "                                                                                                  \n",
            " conv2d_128 (Conv2D)            (None, 24, 24, 256)  1769728     ['concatenate_15[0][0]']         \n",
            "                                                                                                  \n",
            " conv2d_129 (Conv2D)            (None, 24, 24, 256)  590080      ['conv2d_128[0][0]']             \n",
            "                                                                                                  \n",
            " up_sampling2d_6 (UpSampling2D)  (None, 48, 48, 256)  0          ['conv2d_129[0][0]']             \n",
            "                                                                                                  \n",
            " concatenate_16 (Concatenate)   (None, 48, 48, 384)  0           ['up_sampling2d_6[0][0]',        \n",
            "                                                                  'conv2d_123[0][0]']             \n",
            "                                                                                                  \n",
            " conv2d_130 (Conv2D)            (None, 48, 48, 128)  442496      ['concatenate_16[0][0]']         \n",
            "                                                                                                  \n",
            " conv2d_131 (Conv2D)            (None, 48, 48, 128)  147584      ['conv2d_130[0][0]']             \n",
            "                                                                                                  \n",
            " up_sampling2d_7 (UpSampling2D)  (None, 96, 96, 128)  0          ['conv2d_131[0][0]']             \n",
            "                                                                                                  \n",
            " concatenate_17 (Concatenate)   (None, 96, 96, 192)  0           ['up_sampling2d_7[0][0]',        \n",
            "                                                                  'conv2d_121[0][0]']             \n",
            "                                                                                                  \n",
            " conv2d_132 (Conv2D)            (None, 96, 96, 64)   110656      ['concatenate_17[0][0]']         \n",
            "                                                                                                  \n",
            " conv2d_133 (Conv2D)            (None, 96, 96, 64)   36928       ['conv2d_132[0][0]']             \n",
            "                                                                                                  \n",
            " up_sampling2d_8 (UpSampling2D)  (None, 192, 192, 64  0          ['conv2d_133[0][0]']             \n",
            "                                )                                                                 \n",
            "                                                                                                  \n",
            " concatenate_18 (Concatenate)   (None, 192, 192, 96  0           ['up_sampling2d_8[0][0]',        \n",
            "                                )                                 'conv2d_119[0][0]']             \n",
            "                                                                                                  \n",
            " conv2d_134 (Conv2D)            (None, 192, 192, 32  27680       ['concatenate_18[0][0]']         \n",
            "                                )                                                                 \n",
            "                                                                                                  \n",
            " conv2d_135 (Conv2D)            (None, 192, 192, 32  9248        ['conv2d_134[0][0]']             \n",
            "                                )                                                                 \n",
            "                                                                                                  \n",
            " conv2d_136 (Conv2D)            (None, 192, 192, 3)  99          ['conv2d_135[0][0]']             \n",
            "                                                                                                  \n",
            "==================================================================================================\n",
            "Total params: 7,846,723\n",
            "Trainable params: 7,846,723\n",
            "Non-trainable params: 0\n",
            "__________________________________________________________________________________________________\n"
          ]
        }
      ]
    },
    {
      "cell_type": "markdown",
      "source": [
        "##Обучение модели"
      ],
      "metadata": {
        "id": "BmF_-RTybm9I"
      }
    },
    {
      "cell_type": "code",
      "source": [
        "model_checkpoint = ModelCheckpoint('weights.h5', monitor='val_loss', save_best_only=True)\n",
        "\n",
        "model.fit(img_arr, mask_arr, batch_size=32, epochs=10, verbose=1,\n",
        "          validation_split=0.2,\n",
        "          callbacks=[model_checkpoint])"
      ],
      "metadata": {
        "colab": {
          "base_uri": "https://localhost:8080/"
        },
        "id": "0EUuqOYCP8a8",
        "outputId": "93039cb9-66e4-424a-a302-bf32c13f9722"
      },
      "execution_count": null,
      "outputs": [
        {
          "output_type": "stream",
          "name": "stdout",
          "text": [
            "Epoch 1/10\n",
            "1/1 [==============================] - 13s 13s/step - loss: -0.5657 - dice_coef: 0.5657 - val_loss: -0.5776 - val_dice_coef: 0.5776\n",
            "Epoch 2/10\n",
            "1/1 [==============================] - 13s 13s/step - loss: -0.5658 - dice_coef: 0.5658 - val_loss: -0.5777 - val_dice_coef: 0.5777\n",
            "Epoch 3/10\n",
            "1/1 [==============================] - 10s 10s/step - loss: -0.5659 - dice_coef: 0.5659 - val_loss: -0.5778 - val_dice_coef: 0.5778\n",
            "Epoch 4/10\n",
            "1/1 [==============================] - 12s 12s/step - loss: -0.5660 - dice_coef: 0.5660 - val_loss: -0.5779 - val_dice_coef: 0.5779\n",
            "Epoch 5/10\n",
            "1/1 [==============================] - 12s 12s/step - loss: -0.5661 - dice_coef: 0.5661 - val_loss: -0.5780 - val_dice_coef: 0.5780\n",
            "Epoch 6/10\n",
            "1/1 [==============================] - 9s 9s/step - loss: -0.5662 - dice_coef: 0.5662 - val_loss: -0.5781 - val_dice_coef: 0.5781\n",
            "Epoch 7/10\n",
            "1/1 [==============================] - 11s 11s/step - loss: -0.5663 - dice_coef: 0.5663 - val_loss: -0.5782 - val_dice_coef: 0.5782\n",
            "Epoch 8/10\n",
            "1/1 [==============================] - 11s 11s/step - loss: -0.5664 - dice_coef: 0.5664 - val_loss: -0.5783 - val_dice_coef: 0.5783\n",
            "Epoch 9/10\n",
            "1/1 [==============================] - 11s 11s/step - loss: -0.5664 - dice_coef: 0.5664 - val_loss: -0.5784 - val_dice_coef: 0.5784\n",
            "Epoch 10/10\n",
            "1/1 [==============================] - 9s 9s/step - loss: -0.5665 - dice_coef: 0.5665 - val_loss: -0.5785 - val_dice_coef: 0.5785\n"
          ]
        },
        {
          "output_type": "execute_result",
          "data": {
            "text/plain": [
              "<keras.callbacks.History at 0x7f0ba4794b80>"
            ]
          },
          "metadata": {},
          "execution_count": 7
        }
      ]
    },
    {
      "cell_type": "code",
      "source": [
        "out = model.predict(img_arr[0].reshape(1,176, 160, 3))\n",
        "out = out * 255\n",
        "out = out.astype(np.uint8)\n",
        "Image.fromarray(out.reshape(176, 160, 3))"
      ],
      "metadata": {
        "colab": {
          "base_uri": "https://localhost:8080/",
          "height": 210
        },
        "id": "HlbAWtyyhPxE",
        "outputId": "077d69eb-304b-4247-ad45-a983a0a7daf0"
      },
      "execution_count": null,
      "outputs": [
        {
          "output_type": "stream",
          "name": "stdout",
          "text": [
            "1/1 [==============================] - 0s 464ms/step\n"
          ]
        },
        {
          "output_type": "execute_result",
          "data": {
            "text/plain": [
              "<PIL.Image.Image image mode=RGB size=160x176 at 0x7F0BA6DE3400>"
            ],
            "image/png": "[encoded data removed]"
          },
          "metadata": {},
          "execution_count": 9
        }
      ]
    }
  ]
}